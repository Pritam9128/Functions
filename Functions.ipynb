{
  "nbformat": 4,
  "nbformat_minor": 0,
  "metadata": {
    "colab": {
      "provenance": []
    },
    "kernelspec": {
      "name": "python3",
      "display_name": "Python 3"
    },
    "language_info": {
      "name": "python"
    }
  },
  "cells": [
    {
      "cell_type": "markdown",
      "source": [
        "# FUNCTIONS"
      ],
      "metadata": {
        "id": "s97JvgSjlnCQ"
      }
    },
    {
      "cell_type": "markdown",
      "source": [
        "1. What is the difference between a function and a method python?\n",
        "-> A function is an independent and can be called from anywhere, while a method is tied to a class or object and must be called on that or object with in that class."
      ],
      "metadata": {
        "id": "lbfjW07Vl5u_"
      }
    },
    {
      "cell_type": "code",
      "execution_count": null,
      "metadata": {
        "id": "esoieX_SlAZL"
      },
      "outputs": [],
      "source": []
    }
  ]
}